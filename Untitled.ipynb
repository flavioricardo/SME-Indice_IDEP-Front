{
 "cells": [
  {
   "cell_type": "code",
   "execution_count": 5,
   "metadata": {},
   "outputs": [],
   "source": [
    "let r = {\n",
    "        \"cod_esc\": \"017973\",\n",
    "        \"ano_inicial\": {\n",
    "            \"metas\": {\n",
    "                \"anos\": [\n",
    "                    \"2019\",\n",
    "                    \"2020\",\n",
    "                    \"2021\",\n",
    "                    \"2022\",\n",
    "                    \"2023\",\n",
    "                    \"2038\"\n",
    "                ],\n",
    "                \"metas\": [\n",
    "                    4.179634863,\n",
    "                    4.436685507,\n",
    "                    4.698568859,\n",
    "                    4.963741432,\n",
    "                    5.230579271,\n",
    "                    8.501723331\n",
    "                ]\n",
    "            },\n",
    "            \"indices\": {\n",
    "                \"anos\": [\n",
    "                    \"2018\"\n",
    "                ],\n",
    "                \"indices\": [\n",
    "                    3.928844926\n",
    "                ]\n",
    "            },\n",
    "            \"parametros\": {\n",
    "                \"nse\": \"3\",\n",
    "                \"icg\": \"2\"\n",
    "            }\n",
    "        },\n",
    "        \"ano_final\": {\n",
    "            \"metas\": {\n",
    "                \"anos\": [\n",
    "                    \"2020\",\n",
    "                    \"2021\",\n",
    "                    \"2022\",\n",
    "                    \"2023\",\n",
    "                    \"2038\"\n",
    "                ],\n",
    "                \"metas\": [\n",
    "                    4.767658757,\n",
    "                    4.972114214,\n",
    "                    5.178217378,\n",
    "                    5.385151036,\n",
    "                    8.094028771\n",
    "                ]\n",
    "            },\n",
    "            \"indices\": {\n",
    "                \"anos\": [\n",
    "                    \"2018\"\n",
    "                ],\n",
    "                \"indices\": [\n",
    "                    4.366817318\n",
    "                ]\n",
    "            },\n",
    "            \"parametros\": {\n",
    "                \"nse\": \"3\",\n",
    "                \"icg\": \"2\"\n",
    "            }\n",
    "        }\n",
    "    }\n",
    "\n"
   ]
  },
  {
   "cell_type": "code",
   "execution_count": 25,
   "metadata": {},
   "outputs": [],
   "source": [
    "const getAnosInicial =(r) =>{ return [r.ano_inicial.indices.anos[0]].concat(r.ano_inicial.metas.anos)}"
   ]
  },
  {
   "cell_type": "code",
   "execution_count": 26,
   "metadata": {},
   "outputs": [
    {
     "name": "stdout",
     "output_type": "stream",
     "text": [
      "[ '2018', '2019', '2020', '2021', '2022', '2023', '2038' ]\n"
     ]
    }
   ],
   "source": [
    "console.log(getAnosInicial(r))"
   ]
  },
  {
   "cell_type": "code",
   "execution_count": 17,
   "metadata": {},
   "outputs": [],
   "source": [
    "const getMetaInicial =(r)=> {return [r.ano_inicial.indices.indices[0]].concat(r.ano_inicial.metas.metas)}"
   ]
  },
  {
   "cell_type": "code",
   "execution_count": 18,
   "metadata": {},
   "outputs": [
    {
     "name": "stdout",
     "output_type": "stream",
     "text": [
      "[ 3.928844926,\n",
      "  4.179634863,\n",
      "  4.436685507,\n",
      "  4.698568859,\n",
      "  4.963741432,\n",
      "  5.230579271,\n",
      "  8.501723331 ]\n"
     ]
    }
   ],
   "source": [
    "console.log(getMetaInicial(r))"
   ]
  },
  {
   "cell_type": "code",
   "execution_count": 19,
   "metadata": {},
   "outputs": [],
   "source": [
    "const getMetaFinal =(r)=> {return [r.ano_final.indices.indices[0]].concat(r.ano_final.metas.metas)}"
   ]
  },
  {
   "cell_type": "code",
   "execution_count": 29,
   "metadata": {},
   "outputs": [
    {
     "name": "stdout",
     "output_type": "stream",
     "text": [
      "[ 4.366817318,\n",
      "  4.767658757,\n",
      "  4.972114214,\n",
      "  5.178217378,\n",
      "  5.385151036,\n",
      "  8.094028771 ]\n"
     ]
    }
   ],
   "source": [
    "console.log(getMetaFinal(r))"
   ]
  },
  {
   "cell_type": "code",
   "execution_count": 21,
   "metadata": {},
   "outputs": [
    {
     "data": {
      "text/plain": [
       "4.366817318"
      ]
     },
     "execution_count": 21,
     "metadata": {},
     "output_type": "execute_result"
    }
   ],
   "source": [
    "r.ano_final.indices.indices[0]"
   ]
  },
  {
   "cell_type": "code",
   "execution_count": 22,
   "metadata": {},
   "outputs": [
    {
     "data": {
      "text/plain": [
       "[ 4.767658757, 4.972114214, 5.178217378, 5.385151036, 8.094028771 ]"
      ]
     },
     "execution_count": 22,
     "metadata": {},
     "output_type": "execute_result"
    }
   ],
   "source": [
    "r.ano_final.metas.metas"
   ]
  },
  {
   "cell_type": "code",
   "execution_count": 30,
   "metadata": {},
   "outputs": [
    {
     "ename": "SyntaxError",
     "evalue": "Identifier 'getAnosFinal' has already been declared",
     "output_type": "error",
     "traceback": [
      "evalmachine.<anonymous>:1",
      "const getAnosFinal =(r) =>{ return [r.ano_final.indices.anos[0]].concat(r.ano_final.metas.anos)}",
      "^",
      "",
      "SyntaxError: Identifier 'getAnosFinal' has already been declared",
      "    at evalmachine.<anonymous>:1:1",
      "    at Script.runInThisContext (vm.js:119:20)",
      "    at Object.runInThisContext (vm.js:326:38)",
      "    at run ([eval]:1002:15)",
      "    at onRunRequest ([eval]:829:18)",
      "    at onMessage ([eval]:789:13)",
      "    at process.emit (events.js:189:13)",
      "    at emit (internal/child_process.js:820:12)",
      "    at process._tickCallback (internal/process/next_tick.js:63:19)"
     ]
    }
   ],
   "source": [
    "const getAnosFinal =(r) =>{ return [r.ano_final.indices.anos[0]].concat(r.ano_final.metas.anos)}"
   ]
  },
  {
   "cell_type": "code",
   "execution_count": 31,
   "metadata": {},
   "outputs": [
    {
     "name": "stdout",
     "output_type": "stream",
     "text": [
      "[ '2018', '2020', '2021', '2022', '2023', '2038' ]\n"
     ]
    }
   ],
   "source": [
    "console.log(getAnosFinal(r))"
   ]
  },
  {
   "cell_type": "code",
   "execution_count": 35,
   "metadata": {},
   "outputs": [],
   "source": [
    "const getValorAlcancadoFinal = r => {return [r.ano_final.indices.indices[0]].concat([0,0,0,0,0])}"
   ]
  },
  {
   "cell_type": "code",
   "execution_count": 36,
   "metadata": {},
   "outputs": [
    {
     "name": "stdout",
     "output_type": "stream",
     "text": [
      "[ 4.366817318, 0, 0, 0, 0, 0 ]\n"
     ]
    }
   ],
   "source": [
    "console.log(getValorAlcancadoFinal(r))"
   ]
  },
  {
   "cell_type": "code",
   "execution_count": null,
   "metadata": {},
   "outputs": [],
   "source": []
  }
 ],
 "metadata": {
  "kernelspec": {
   "display_name": "Javascript (Node.js)",
   "language": "javascript",
   "name": "javascript"
  },
  "language_info": {
   "file_extension": ".js",
   "mimetype": "application/javascript",
   "name": "javascript",
   "version": "10.15.3"
  }
 },
 "nbformat": 4,
 "nbformat_minor": 2
}
